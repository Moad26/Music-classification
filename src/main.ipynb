{
 "cells": [
  {
   "cell_type": "code",
   "execution_count": 6,
   "id": "87c78719",
   "metadata": {},
   "outputs": [
    {
     "data": {
      "text/plain": [
       "'for file in dir.glob(\"*.mp3\"):\\n    y, sr = librosa.load(file, sr=None)\\n    duration = len(y) / sr\\n    print(f\"{file.name}: {duration:.2f} sec\")'"
      ]
     },
     "execution_count": 6,
     "metadata": {},
     "output_type": "execute_result"
    }
   ],
   "source": [
    "from pathlib import Path\n",
    "import librosa\n",
    "\n",
    "audio_dir = Path(\"../input/MEMD_audio\")\n",
    "files = sorted(audio_dir.glob(pattern=\"*.mp3\"), key=lambda p:int(p.stem))\n",
    "names = [f.name for f in files]\n",
    "\n",
    "\"\"\"for file in dir.glob(\"*.mp3\"):\n",
    "    y, sr = librosa.load(file, sr=None)\n",
    "    duration = len(y) / sr\n",
    "    print(f\"{file.name}: {duration:.2f} sec\")\"\"\"\n"
   ]
  },
  {
   "cell_type": "code",
   "execution_count": 7,
   "id": "a6aca3e0",
   "metadata": {},
   "outputs": [],
   "source": [
    "import pandas as pd\n",
    "df1 = pd.read_csv(\"../input/annotations/annotations averaged per song/song_level/static_annotations_averaged_songs_1_2000.csv\")\n",
    "df2 = pd.read_csv(\"../input/annotations/annotations averaged per song/song_level/static_annotations_averaged_songs_2000_2058.csv\")\n"
   ]
  },
  {
   "cell_type": "code",
   "execution_count": 8,
   "id": "9074e5ce",
   "metadata": {},
   "outputs": [
    {
     "data": {
      "text/plain": [
       "['song_id', ' valence_mean', ' valence_std', ' arousal_mean', ' arousal_std']"
      ]
     },
     "execution_count": 8,
     "metadata": {},
     "output_type": "execute_result"
    }
   ],
   "source": [
    "df1.columns.to_list()"
   ]
  },
  {
   "cell_type": "markdown",
   "id": "ac1eeb79",
   "metadata": {},
   "source": []
  },
  {
   "cell_type": "code",
   "execution_count": 9,
   "id": "85913b71",
   "metadata": {},
   "outputs": [
    {
     "data": {
      "text/plain": [
       "['song_id',\n",
       " ' valence_mean',\n",
       " ' valence_std',\n",
       " ' valence_ max_mean',\n",
       " ' valence_max_std',\n",
       " ' valence_min_mean',\n",
       " ' valence_min_std',\n",
       " ' arousal_mean',\n",
       " ' arousal_std',\n",
       " ' arousal_max_mean',\n",
       " ' arousal_max_std',\n",
       " ' arousal_min_mean',\n",
       " ' arousal_min_std']"
      ]
     },
     "execution_count": 9,
     "metadata": {},
     "output_type": "execute_result"
    }
   ],
   "source": [
    "df2.columns.to_list()"
   ]
  },
  {
   "cell_type": "code",
   "execution_count": 10,
   "id": "185f9f2c",
   "metadata": {},
   "outputs": [
    {
     "data": {
      "text/html": [
       "<div>\n",
       "<style scoped>\n",
       "    .dataframe tbody tr th:only-of-type {\n",
       "        vertical-align: middle;\n",
       "    }\n",
       "\n",
       "    .dataframe tbody tr th {\n",
       "        vertical-align: top;\n",
       "    }\n",
       "\n",
       "    .dataframe thead th {\n",
       "        text-align: right;\n",
       "    }\n",
       "</style>\n",
       "<table border=\"1\" class=\"dataframe\">\n",
       "  <thead>\n",
       "    <tr style=\"text-align: right;\">\n",
       "      <th></th>\n",
       "      <th>song_id</th>\n",
       "      <th>valence_mean</th>\n",
       "      <th>arousal_mean</th>\n",
       "    </tr>\n",
       "  </thead>\n",
       "  <tbody>\n",
       "    <tr>\n",
       "      <th>0</th>\n",
       "      <td>2</td>\n",
       "      <td>3.1</td>\n",
       "      <td>3.0</td>\n",
       "    </tr>\n",
       "    <tr>\n",
       "      <th>1</th>\n",
       "      <td>3</td>\n",
       "      <td>3.5</td>\n",
       "      <td>3.3</td>\n",
       "    </tr>\n",
       "    <tr>\n",
       "      <th>2</th>\n",
       "      <td>4</td>\n",
       "      <td>5.7</td>\n",
       "      <td>5.5</td>\n",
       "    </tr>\n",
       "    <tr>\n",
       "      <th>3</th>\n",
       "      <td>5</td>\n",
       "      <td>4.4</td>\n",
       "      <td>5.3</td>\n",
       "    </tr>\n",
       "    <tr>\n",
       "      <th>4</th>\n",
       "      <td>7</td>\n",
       "      <td>5.8</td>\n",
       "      <td>6.4</td>\n",
       "    </tr>\n",
       "  </tbody>\n",
       "</table>\n",
       "</div>"
      ],
      "text/plain": [
       "   song_id   valence_mean   arousal_mean\n",
       "0        2            3.1            3.0\n",
       "1        3            3.5            3.3\n",
       "2        4            5.7            5.5\n",
       "3        5            4.4            5.3\n",
       "4        7            5.8            6.4"
      ]
     },
     "execution_count": 10,
     "metadata": {},
     "output_type": "execute_result"
    }
   ],
   "source": [
    "df1 = df1[[\"song_id\",\" valence_mean\" , \" arousal_mean\"]]\n",
    "df2 = df2[[\"song_id\",\" valence_mean\" , \" arousal_mean\"]]\n",
    "df = pd.concat([df1, df2])\n",
    "df.head()"
   ]
  },
  {
   "cell_type": "code",
   "execution_count": 11,
   "id": "36c0bf2a",
   "metadata": {},
   "outputs": [
    {
     "data": {
      "text/html": [
       "<div>\n",
       "<style scoped>\n",
       "    .dataframe tbody tr th:only-of-type {\n",
       "        vertical-align: middle;\n",
       "    }\n",
       "\n",
       "    .dataframe tbody tr th {\n",
       "        vertical-align: top;\n",
       "    }\n",
       "\n",
       "    .dataframe thead th {\n",
       "        text-align: right;\n",
       "    }\n",
       "</style>\n",
       "<table border=\"1\" class=\"dataframe\">\n",
       "  <thead>\n",
       "    <tr style=\"text-align: right;\">\n",
       "      <th></th>\n",
       "      <th>song_id</th>\n",
       "      <th>valence_mean</th>\n",
       "      <th>arousal_mean</th>\n",
       "    </tr>\n",
       "  </thead>\n",
       "  <tbody>\n",
       "    <tr>\n",
       "      <th>0</th>\n",
       "      <td>2</td>\n",
       "      <td>3.1</td>\n",
       "      <td>3.0</td>\n",
       "    </tr>\n",
       "    <tr>\n",
       "      <th>1</th>\n",
       "      <td>3</td>\n",
       "      <td>3.5</td>\n",
       "      <td>3.3</td>\n",
       "    </tr>\n",
       "    <tr>\n",
       "      <th>2</th>\n",
       "      <td>4</td>\n",
       "      <td>5.7</td>\n",
       "      <td>5.5</td>\n",
       "    </tr>\n",
       "    <tr>\n",
       "      <th>3</th>\n",
       "      <td>5</td>\n",
       "      <td>4.4</td>\n",
       "      <td>5.3</td>\n",
       "    </tr>\n",
       "    <tr>\n",
       "      <th>4</th>\n",
       "      <td>7</td>\n",
       "      <td>5.8</td>\n",
       "      <td>6.4</td>\n",
       "    </tr>\n",
       "  </tbody>\n",
       "</table>\n",
       "</div>"
      ],
      "text/plain": [
       "   song_id   valence_mean   arousal_mean\n",
       "0        2            3.1            3.0\n",
       "1        3            3.5            3.3\n",
       "2        4            5.7            5.5\n",
       "3        5            4.4            5.3\n",
       "4        7            5.8            6.4"
      ]
     },
     "execution_count": 11,
     "metadata": {},
     "output_type": "execute_result"
    }
   ],
   "source": [
    "df_dir = Path(\"../input/annotations/annotations averaged per song/song_level/\")\n",
    "df_list = []\n",
    "for file in df_dir.glob(\"*csv\"):\n",
    "    df = pd.read_csv(file)\n",
    "    df = df[[\"song_id\",\" valence_mean\" , \" arousal_mean\"]]\n",
    "    df_list.append(df)\n",
    "    df = pd.concat(df_list)\n",
    "df.head()"
   ]
  },
  {
   "cell_type": "code",
   "execution_count": 12,
   "id": "5d02f403",
   "metadata": {},
   "outputs": [
    {
     "data": {
      "text/plain": [
       "'for id in song_ids:\\n     audio_path = audio_dir / f\"{id}.mp3\"\\n    y, sr = librosa.load(audio_path)\\n    arousal = df.loc[df[\"song_id\"] == id, \" arousal_mean\"].values[0]\\n    valence = df.loc[df[\"song_id\"] == id, \" valence_mean\"].values[0]\\n    print(\"ar: \",arousal, end=\" \")\\n    print(\"val: \",valence) '"
      ]
     },
     "execution_count": 12,
     "metadata": {},
     "output_type": "execute_result"
    }
   ],
   "source": [
    "from pathlib import Path\n",
    "import librosa\n",
    "\n",
    "song_ids = df[\"song_id\"].tolist()\n",
    "\n",
    "\"\"\"for id in song_ids:\n",
    "     audio_path = audio_dir / f\"{id}.mp3\"\n",
    "    y, sr = librosa.load(audio_path)\n",
    "    arousal = df.loc[df[\"song_id\"] == id, \" arousal_mean\"].values[0]\n",
    "    valence = df.loc[df[\"song_id\"] == id, \" valence_mean\"].values[0]\n",
    "    print(\"ar: \",arousal, end=\" \")\n",
    "    print(\"val: \",valence) \"\"\"\n"
   ]
  },
  {
   "cell_type": "code",
   "execution_count": null,
   "id": "b41be075",
   "metadata": {},
   "outputs": [],
   "source": [
    "from sklearn.preprocessing import StandardScaler\n",
    "scaler = StandardScaler()\n",
    "df[[\" valence_mean\" , \" arousal_mean\"]] = scaler.fit_transform(df[[\" valence_mean\" , \" arousal_mean\"]])"
   ]
  },
  {
   "cell_type": "code",
   "execution_count": 20,
   "id": "b5ce9b93",
   "metadata": {},
   "outputs": [
    {
     "data": {
      "text/html": [
       "<div>\n",
       "<style scoped>\n",
       "    .dataframe tbody tr th:only-of-type {\n",
       "        vertical-align: middle;\n",
       "    }\n",
       "\n",
       "    .dataframe tbody tr th {\n",
       "        vertical-align: top;\n",
       "    }\n",
       "\n",
       "    .dataframe thead th {\n",
       "        text-align: right;\n",
       "    }\n",
       "</style>\n",
       "<table border=\"1\" class=\"dataframe\">\n",
       "  <thead>\n",
       "    <tr style=\"text-align: right;\">\n",
       "      <th></th>\n",
       "      <th>song_id</th>\n",
       "      <th>valence_mean</th>\n",
       "      <th>arousal_mean</th>\n",
       "    </tr>\n",
       "  </thead>\n",
       "  <tbody>\n",
       "    <tr>\n",
       "      <th>count</th>\n",
       "      <td>1802.000000</td>\n",
       "      <td>1.802000e+03</td>\n",
       "      <td>1.802000e+03</td>\n",
       "    </tr>\n",
       "    <tr>\n",
       "      <th>mean</th>\n",
       "      <td>1093.215871</td>\n",
       "      <td>-5.756895e-16</td>\n",
       "      <td>-2.286985e-16</td>\n",
       "    </tr>\n",
       "    <tr>\n",
       "      <th>std</th>\n",
       "      <td>599.658004</td>\n",
       "      <td>1.000278e+00</td>\n",
       "      <td>1.000278e+00</td>\n",
       "    </tr>\n",
       "    <tr>\n",
       "      <th>min</th>\n",
       "      <td>2.000000</td>\n",
       "      <td>-2.814641e+00</td>\n",
       "      <td>-2.507373e+00</td>\n",
       "    </tr>\n",
       "    <tr>\n",
       "      <th>25%</th>\n",
       "      <td>569.500000</td>\n",
       "      <td>-6.850123e-01</td>\n",
       "      <td>-7.910782e-01</td>\n",
       "    </tr>\n",
       "    <tr>\n",
       "      <th>50%</th>\n",
       "      <td>1157.500000</td>\n",
       "      <td>-3.531259e-03</td>\n",
       "      <td>6.706900e-02</td>\n",
       "    </tr>\n",
       "    <tr>\n",
       "      <th>75%</th>\n",
       "      <td>1607.750000</td>\n",
       "      <td>7.631349e-01</td>\n",
       "      <td>7.691894e-01</td>\n",
       "    </tr>\n",
       "    <tr>\n",
       "      <th>max</th>\n",
       "      <td>2058.000000</td>\n",
       "      <td>2.977948e+00</td>\n",
       "      <td>2.563497e+00</td>\n",
       "    </tr>\n",
       "  </tbody>\n",
       "</table>\n",
       "</div>"
      ],
      "text/plain": [
       "           song_id   valence_mean   arousal_mean\n",
       "count  1802.000000   1.802000e+03   1.802000e+03\n",
       "mean   1093.215871  -5.756895e-16  -2.286985e-16\n",
       "std     599.658004   1.000278e+00   1.000278e+00\n",
       "min       2.000000  -2.814641e+00  -2.507373e+00\n",
       "25%     569.500000  -6.850123e-01  -7.910782e-01\n",
       "50%    1157.500000  -3.531259e-03   6.706900e-02\n",
       "75%    1607.750000   7.631349e-01   7.691894e-01\n",
       "max    2058.000000   2.977948e+00   2.563497e+00"
      ]
     },
     "execution_count": 20,
     "metadata": {},
     "output_type": "execute_result"
    }
   ],
   "source": [
    "df.describe()"
   ]
  },
  {
   "cell_type": "code",
   "execution_count": 21,
   "id": "644ebe4a",
   "metadata": {},
   "outputs": [
    {
     "name": "stdout",
     "output_type": "stream",
     "text": [
      "<class 'pandas.core.frame.DataFrame'>\n",
      "Index: 1802 entries, 0 to 57\n",
      "Data columns (total 3 columns):\n",
      " #   Column         Non-Null Count  Dtype  \n",
      "---  ------         --------------  -----  \n",
      " 0   song_id        1802 non-null   int64  \n",
      " 1    valence_mean  1802 non-null   float64\n",
      " 2    arousal_mean  1802 non-null   float64\n",
      "dtypes: float64(2), int64(1)\n",
      "memory usage: 56.3 KB\n"
     ]
    }
   ],
   "source": [
    "df.info()"
   ]
  }
 ],
 "metadata": {
  "kernelspec": {
   "display_name": "music-sentiment",
   "language": "python",
   "name": "python3"
  },
  "language_info": {
   "codemirror_mode": {
    "name": "ipython",
    "version": 3
   },
   "file_extension": ".py",
   "mimetype": "text/x-python",
   "name": "python",
   "nbconvert_exporter": "python",
   "pygments_lexer": "ipython3",
   "version": "3.10.4"
  }
 },
 "nbformat": 4,
 "nbformat_minor": 5
}
